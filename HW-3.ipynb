{
 "cells": [
  {
   "cell_type": "markdown",
   "metadata": {
    "colab_type": "text",
    "id": "bEvV44opYsow"
   },
   "source": [
    "<a id='top'></a>\n",
    "\n",
    "# Homework 3: More Simulation\n",
    "***\n",
    "\n",
    "**Name**: Qiuyang Fu\n",
    "\n",
    "***\n",
    "\n",
    "This assignment is due on Canvas by **11:59 PM on July 24, 2020**. Your solutions to theoretical questions should be done in Markdown directly below the associated question.  Your solutions to computational questions should include any specified Python code and results as well as written commentary on your conclusions.  Remember that you are encouraged to discuss the problems with your classmates, but **you must write all code and solutions on your own**.\n",
    "\n",
    "**NOTES**: \n",
    "\n",
    "- Any relevant data sets should be available under the **Data** module on Canvas. To make life easier on the graders if they need to run your code, do not change the relative path names here. Instead, move the files around on your computer.\n",
    "- If you're not familiar with typesetting math directly into Markdown then by all means, do your work on paper first and then typeset it later.  Remember that there is a [reference guide](https://math.meta.stackexchange.com/questions/5020/mathjax-basic-tutorial-and-quick-reference) linked on Canvas on writing math in Markdown. **All** of your written commentary, justifications and mathematical work should be in Markdown.\n",
    "- Because you can technically evaluate notebook cells is a non-linear order, it's a good idea to do Kernel $\\rightarrow$ Restart & Run All as a check before submitting your solutions.  That way if we need to run your code you will know that it will work as expected. \n",
    "- It is **bad form** to make your reader interpret numerical output from your code.  If a question asks you to compute some value from the data you should show your code output **AND** write a summary of the results in Markdown directly below your code. \n",
    "- This probably goes without saying, but... For any question that asks you to calculate something, you **must show all work and justify your answers to receive credit**. Sparse or nonexistent work will receive sparse or nonexistent credit. \n",
    "\n",
    "---\n"
   ]
  },
  {
   "cell_type": "code",
   "execution_count": 2,
   "metadata": {
    "colab": {},
    "colab_type": "code",
    "executionInfo": {
     "elapsed": 3850,
     "status": "ok",
     "timestamp": 1595654605918,
     "user": {
      "displayName": "pengch fan",
      "photoUrl": "https://lh3.googleusercontent.com/a-/AOh14Gh6RYZs4by59U6Pynzm6C4AyIQvztduvDjrXchkYYY=s64",
      "userId": "03397301703083561834"
     },
     "user_tz": -480
    },
    "id": "2oyn3UMMYsox"
   },
   "outputs": [
    {
     "ename": "ModuleNotFoundError",
     "evalue": "No module named 'scipy'",
     "output_type": "error",
     "traceback": [
      "\u001b[0;31m---------------------------------------------------------------------------\u001b[0m",
      "\u001b[0;31mModuleNotFoundError\u001b[0m                       Traceback (most recent call last)",
      "\u001b[0;32m<ipython-input-2-074382fb8055>\u001b[0m in \u001b[0;36m<module>\u001b[0;34m\u001b[0m\n\u001b[1;32m      2\u001b[0m \u001b[0;32mimport\u001b[0m \u001b[0mnumpy\u001b[0m \u001b[0;32mas\u001b[0m \u001b[0mnp\u001b[0m\u001b[0;34m\u001b[0m\u001b[0;34m\u001b[0m\u001b[0m\n\u001b[1;32m      3\u001b[0m \u001b[0;32mimport\u001b[0m \u001b[0mmath\u001b[0m\u001b[0;34m\u001b[0m\u001b[0;34m\u001b[0m\u001b[0m\n\u001b[0;32m----> 4\u001b[0;31m \u001b[0;32mfrom\u001b[0m \u001b[0mscipy\u001b[0m \u001b[0;32mimport\u001b[0m \u001b[0mstats\u001b[0m\u001b[0;34m\u001b[0m\u001b[0;34m\u001b[0m\u001b[0m\n\u001b[0m\u001b[1;32m      5\u001b[0m \u001b[0;32mimport\u001b[0m \u001b[0mmatplotlib\u001b[0m\u001b[0;34m.\u001b[0m\u001b[0mpylab\u001b[0m \u001b[0;32mas\u001b[0m \u001b[0mplt\u001b[0m\u001b[0;34m\u001b[0m\u001b[0;34m\u001b[0m\u001b[0m\n\u001b[1;32m      6\u001b[0m \u001b[0mget_ipython\u001b[0m\u001b[0;34m(\u001b[0m\u001b[0;34m)\u001b[0m\u001b[0;34m.\u001b[0m\u001b[0mrun_line_magic\u001b[0m\u001b[0;34m(\u001b[0m\u001b[0;34m'matplotlib'\u001b[0m\u001b[0;34m,\u001b[0m \u001b[0;34m'inline'\u001b[0m\u001b[0;34m)\u001b[0m\u001b[0;34m\u001b[0m\u001b[0;34m\u001b[0m\u001b[0m\n",
      "\u001b[0;31mModuleNotFoundError\u001b[0m: No module named 'scipy'"
     ]
    }
   ],
   "source": [
    "import pandas as pd\n",
    "import numpy as np\n",
    "import math\n",
    "from scipy import stats\n",
    "import matplotlib.pylab as plt\n",
    "%matplotlib inline"
   ]
  },
  {
   "cell_type": "markdown",
   "metadata": {
    "ExecuteTime": {
     "end_time": "2020-02-06T18:30:03.478651Z",
     "start_time": "2020-02-06T18:30:03.473088Z"
    },
    "colab_type": "text",
    "id": "dPZvfRyDYso2"
   },
   "source": [
    "\n",
    "### [25 points] Problem 1 - Monte Carlo Estimation of Definite Integrals\n",
    "\n",
    "One really cool application of random variables is using them to approximate integrals/area under a curve.  This method of approximating integrals is used frequently in computational science to approximate really difficult integrals that we never want to do by hand.  In this exercise you'll figure out how we can do this in practice and test your method on a relatively simple integral. "
   ]
  },
  {
   "cell_type": "markdown",
   "metadata": {
    "colab_type": "text",
    "id": "KSBr3NvDYso3"
   },
   "source": [
    "**Part A.**  Let $X$ be a random variable representing how delicious a pie you bake is, as measured by the **Deliciousness Index** (DI).  Suppose the probability density function for $X$ is described by the raised sine probability density function:\n",
    "\n",
    "$$\n",
    "f(x) = \\begin{cases}\n",
    "         \\dfrac{1}{2\\pi}\\left(\\sin{(x)} + 1\\right) & 0 \\leq x \\leq 2\\pi \\\\\n",
    "         0                           & \\text{otherwise}\n",
    "         \\end{cases}\n",
    "$$\n",
    "\n",
    "A Deliciousness Index of $2\\pi$ is the most delicious pie you can ever hope to create, and a DI of $0$ is the most disgusting pie you have ever tasted.  \n",
    "\n",
    "Compute **by hand**, the integral of $f(x)$ for $0 \\leq x \\leq \\pi$.  Write a sentence or two to interpret your result physically, in the context of this problem set-up."
   ]
  },
  {
   "cell_type": "markdown",
   "metadata": {
    "colab_type": "text",
    "id": "p1LMsZGyYso4"
   },
   "source": [
    "\\begin{align*}\n",
    "  \\int_0^{\\pi} f(x)dx &= \\frac{1}{2\\pi}\\int_0^{\\pi}\\sin(x)dx + \\frac{1}{2} \\\\\n",
    "                       &= \\frac{1}{2\\pi}(-\\cos(x))\\big |_0^{\\pi}+\\frac{1}{2}\\\\\n",
    "                       &= \\frac{1}{\\pi}+\\frac{1}{2}.\n",
    "\\end{align*}\n",
    "\n",
    "The result shows that the probablity of Deliciousness Index lying between the most digusting and average level is $\\frac{1}{\\pi}+\\frac{1}{2}$."
   ]
  },
  {
   "cell_type": "markdown",
   "metadata": {
    "colab_type": "text",
    "id": "bPEGpqqFYso5"
   },
   "source": [
    "**Part B.** Suppose we sample a random variable $X$ from $U(0,\\pi)$ and another random variable $Y$ from $U(0,1)$ and think of them as $x$- and $y$-coordinates of a point in the box $[0,\\pi] \\times [0,1]$.  If we compute the ratio of points that fall under the curve $f(x)$ to the total points sampled, what does this value estimate? "
   ]
  },
  {
   "cell_type": "markdown",
   "metadata": {
    "colab_type": "text",
    "id": "pZL8UVTcYso5"
   },
   "source": [
    "Since the point is uniformaly falls into the box $[0,\\pi]\\times [0,1]$,the ratio of points that fall under the curve $f(x)$ to the total points samples is approximate to the mean values of $f$ over the interval $[0,\\pi]$:\n",
    "\n",
    "$$\n",
    "\\frac{1}{\\pi}\\int_0^{\\pi}f(x)dx.\n",
    "$$"
   ]
  },
  {
   "cell_type": "markdown",
   "metadata": {
    "colab_type": "text",
    "id": "UW4QiWLUYso6"
   },
   "source": [
    "**Part C.** How could we modify the process outlined in **Part B** so that our estimator estimates the value of the desired integral?  If you need inspiration, check out the in-class notebook on Stochastic Simulation (#4), specifically, the exercise where we estimated $\\pi$!"
   ]
  },
  {
   "cell_type": "markdown",
   "metadata": {
    "colab_type": "text",
    "id": "uIUSPH-YYso6"
   },
   "source": [
    "We can take any number randomly (to the uniform distribution) $\\xi$ and $\\epsilon$ in $[0,1]$. So we compare whether $f(\\xi)\\leq \\epsilon$. We calculate the frequency of the case occurs."
   ]
  },
  {
   "cell_type": "markdown",
   "metadata": {
    "colab_type": "text",
    "id": "CyWXGmcYYso7"
   },
   "source": [
    "**Part D.** Complete the function `integrate` below to compute an approximation to the definition integral $\\int_0^{\\text{ub}} f(x)dx$.  Your function should take as arguments:\n",
    "1. `num_samples` -- the number of points to sample,\n",
    "2. `ub` -- a number between $0$ and $2\\pi$ that is the upper bound of the integral, and\n",
    "3. `isPlot` -- a Boolean flag for whether or not to display a plot of the results.\n",
    "\n",
    "Your function should return an approximation of the definite integral by sampling $X$ from $U(0,\\text{ub})$ and $Y$ from $U(0,1)$. For each random draw $(X,Y)$, define the random variable $Z$ that represents whether or not the sampled $Y$ value is less than $f(X)$ for the corresponding $X$ value.\n",
    "\n",
    "Your function should perform three tasks: \n",
    "\n",
    "1. return the estimate of the value of the integral,\n",
    "2. return the sample variance of the random variable $Z$ being simulated, using the np.var function, and\n",
    "3. if `isPlot` is True, plot the curve $f(x)$ as well as the location of the points $(X,Y)$, colored according to whether they fall above or below the curve. "
   ]
  },
  {
   "cell_type": "code",
   "execution_count": null,
   "metadata": {
    "colab": {},
    "colab_type": "code",
    "executionInfo": {
     "elapsed": 1200,
     "status": "ok",
     "timestamp": 1595655063252,
     "user": {
      "displayName": "pengch fan",
      "photoUrl": "https://lh3.googleusercontent.com/a-/AOh14Gh6RYZs4by59U6Pynzm6C4AyIQvztduvDjrXchkYYY=s64",
      "userId": "03397301703083561834"
     },
     "user_tz": -480
    },
    "id": "mVIzLhmKKewz"
   },
   "outputs": [],
   "source": [
    "pi = np.pi\n",
    "fun_f = lambda xx: (np.sin(xx)+1)/(2*pi)\n",
    "\n",
    "def integrate(num_samples,ub,isPlot=False):\n",
    "  x_vals = np.random.uniform(low=0,high=ub,size=num_samples)\n",
    "  y_vals = np.random.uniform(low=0,high=1,size=num_samples)\n",
    "  Z = (y_vals <= fun_f(x_vals))\n",
    "  Z1 = (y_vals > fun_f(x_vals))\n",
    "  num_below_f = np.sum(Z)\n",
    "  frequency_below_f = num_below_f/num_samples\n",
    "  estimate_integral = ub * frequency_below_f\n",
    "  sample_variance = np.var(Z)\n",
    "  if isPlot:\n",
    "     # naming the x axis \n",
    "     plt.xlabel('x - axis')\n",
    "     # naming the y axis \n",
    "     plt.ylabel('y - axis') \n",
    "     xx_lin = np.linspace(0,2*pi,num=num_samples)\n",
    "     y_below = y_vals.copy()\n",
    "     y_above = y_vals.copy()\n",
    "     y_below[Z1] = np.nan\n",
    "     y_above[Z] = np.nan\n",
    "     plt.plot(x_vals,y_below,color=\"r\")\n",
    "     plt.plot(x_vals,y_above,color=\"b\")\n",
    "     plt.plot(xx_lin,fun_f(xx_lin),color=\"g\")\n",
    "     plt.xlim(0,2*pi)\n",
    "     plt.ylim(0,1)\n",
    "     # giving a title to my graph\n",
    "     plt.title('curve of f and sampled points') \n",
    "     # function to show the plot \n",
    "     plt.show() \n",
    "  return estimate_integral,sample_variance"
   ]
  },
  {
   "cell_type": "markdown",
   "metadata": {
    "colab_type": "text",
    "id": "cqn5XY-9Yso8"
   },
   "source": []
  },
  {
   "cell_type": "markdown",
   "metadata": {
    "colab_type": "text",
    "id": "_xCtno-hYso8"
   },
   "source": [
    "**Part E.** Write your own small unit tests!\n",
    "\n",
    "First, what should your `integrate` function output if you plug in `ub=0`? Set that as `int_0_to_0` below.\n",
    "\n",
    "Second, what should your `integrate` function output if you plug in `ub=`$2\\pi$? Set that as `int_0_to_2pi` below.\n",
    "\n",
    "Then, you can execute the cell below to run two sanity checks. Write out **in math** (like, a definite integral) what each of these two tests is checking and **why** that is a reasonable sanity check.\n",
    "\n",
    "If these two assertions run without fail, then things seem to be working okay. Note that the upper endpoint test is stochastic, so if it fails, try running it a few times. If it fails a lot, then things are probably going wrong."
   ]
  },
  {
   "cell_type": "code",
   "execution_count": null,
   "metadata": {
    "ExecuteTime": {
     "end_time": "2020-02-06T19:35:28.502227Z",
     "start_time": "2020-02-06T19:35:28.495603Z"
    },
    "colab": {},
    "colab_type": "code",
    "executionInfo": {
     "elapsed": 2521,
     "status": "ok",
     "timestamp": 1595654615523,
     "user": {
      "displayName": "pengch fan",
      "photoUrl": "https://lh3.googleusercontent.com/a-/AOh14Gh6RYZs4by59U6Pynzm6C4AyIQvztduvDjrXchkYYY=s64",
      "userId": "03397301703083561834"
     },
     "user_tz": -480
    },
    "id": "zBP9-IjrYso9"
   },
   "outputs": [],
   "source": [
    "\n",
    "\n",
    "int_0_to_0  = 0\n",
    "int_0_to_2pi = 1\n",
    "\n",
    "\n",
    "#---------------------------------------\n",
    "# DO NOT EDIT THIS CELL BELOW HERE\n",
    "#---------------------------------------\n",
    "assert integrate(1000, 0, False)[0] == int_0_to_0, \"Error: lower endpoint test failing\"\n",
    "assert math.isclose(integrate(10000, 2 * np.pi, False)[0], int_0_to_2pi, abs_tol=0.03), \"Error: upper endpoint test failing\""
   ]
  },
  {
   "cell_type": "markdown",
   "metadata": {
    "colab_type": "text",
    "id": "rHZvP5-IYso_"
   },
   "source": []
  },
  {
   "cell_type": "markdown",
   "metadata": {
    "ExecuteTime": {
     "end_time": "2020-02-06T19:16:58.784727Z",
     "start_time": "2020-02-06T19:16:58.777445Z"
    },
    "colab_type": "text",
    "id": "j4diKuMIYso_"
   },
   "source": [
    "**Part F.** Run your simulation with `isPlot=True` and `ub=`$\\pi$ for 1,000 samples so we can see your plot. Then, run your simulation (with `isPlot=False`) with at least 10,000 samples and estimate the value of the given integral. Be sure to leave your cells evaluated for the graders! Does your estimate agree with the exact value of the integral you computed in **Part A**? "
   ]
  },
  {
   "cell_type": "code",
   "execution_count": null,
   "metadata": {
    "colab": {},
    "colab_type": "code",
    "id": "QOP9Hy7xYso_"
   },
   "outputs": [],
   "source": [
    "print(integrate(1000,pi,True),\"\\n\\r\\n\\r\",integrate(10000,pi),\"\\n\\r\\n\\r\",1/2+1/pi)"
   ]
  },
  {
   "cell_type": "markdown",
   "metadata": {
    "colab_type": "text",
    "id": "EgLcuXPIS6u2"
   },
   "source": [
    "The esitamte above agrees with the exact value of the integral computed in **Part A**."
   ]
  }
 ],
 "metadata": {
  "colab": {
   "collapsed_sections": [],
   "name": "Probability_HW3.ipynb",
   "provenance": []
  },
  "kernelspec": {
   "display_name": "Python 3",
   "language": "python",
   "name": "python3"
  },
  "language_info": {
   "codemirror_mode": {
    "name": "ipython",
    "version": 3
   },
   "file_extension": ".py",
   "mimetype": "text/x-python",
   "name": "python",
   "nbconvert_exporter": "python",
   "pygments_lexer": "ipython3",
   "version": "3.8.2"
  }
 },
 "nbformat": 4,
 "nbformat_minor": 1
}
